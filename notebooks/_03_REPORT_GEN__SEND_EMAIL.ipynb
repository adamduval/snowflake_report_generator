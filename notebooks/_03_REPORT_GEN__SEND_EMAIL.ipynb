{
 "cells": [
  {
   "cell_type": "code",
   "execution_count": null,
   "id": "fc05e8a5-f595-4f1a-9e72-8bb25b01b0f5",
   "metadata": {
    "collapsed": false,
    "language": "python",
    "name": "_0_0_setup__imports",
    "resultHeight": 0
   },
   "outputs": [],
   "source": [
    "import sys\n",
    "from datetime import datetime\n",
    "\n",
    "import streamlit as st\n",
    "import streamlit.components.v1 as components"
   ]
  },
  {
   "cell_type": "code",
   "execution_count": null,
   "id": "f5dadf26-d18f-4f19-b626-3d28719c59b5",
   "metadata": {
    "codeCollapsed": false,
    "collapsed": false,
    "language": "python",
    "name": "_0_1_setup__context",
    "resultHeight": 0
   },
   "outputs": [],
   "source": [
    "# Establish an active Snowflake session\n",
    "session = get_active_session()\n",
    "\n",
    "# Use the specified database and schema\n",
    "session.use_database(\"MY_DB\")\n",
    "session.use_schema(\"MY_SCHEMA\")\n",
    "\n",
    "# Define the stage for file operations\n",
    "stage = '@MY_STAGE'"
   ]
  },
  {
   "cell_type": "code",
   "execution_count": null,
   "id": "fec8280a-d462-4033-aee8-2905a604cb54",
   "metadata": {
    "codeCollapsed": false,
    "collapsed": false,
    "language": "python",
    "name": "_0_2_setup_parameters",
    "resultHeight": 38
   },
   "outputs": [],
   "source": [
    "# Define the mapping for command-line argument to manager and product details\n",
    "product_mapping = {\n",
    "    'a': ('Manager A', 'Widget A', 'WIDGET_A', True),\n",
    "    'b': ('Manager B', 'Widget B', 'WIDGET_B', True),\n",
    "    'c': ('Manager C', 'Widget C', 'WIDGET_C', True),\n",
    "    'test': ('Test Manager', 'Widget A', 'WIDGET_A', False)\n",
    "}\n",
    "\n",
    "# Get the command-line argument and ensure it's valid (either 'a', 'b', or 'c')\n",
    "arg = sys.argv[0] if sys.argv[0] in product_mapping else 'test'\n",
    "\n",
    "# Use the mapping to set the manager, product, db_product, and prod variables\n",
    "manager_name, product, db_product, prod = product_mapping[arg]\n",
    "\n",
    "# Optional: Print the values for debugging\n",
    "print(f\"Manager: {manager_name}, Product: {product}, DB Product: {db_product}, prod: {prod}\")\n",
    "\n",
    "# Get the current date for the report name\n",
    "today = datetime.now()\n",
    "current_date = today.strftime('%Y-%m-%d')\n",
    "\n",
    "# Get report name\n",
    "report_name = f\"{current_date}_{db_product.lower()}_report\""
   ]
  },
  {
   "cell_type": "code",
   "execution_count": null,
   "id": "05b3cee8-d6d1-40ec-aab0-d40a65e436db",
   "metadata": {
    "codeCollapsed": false,
    "collapsed": false,
    "language": "python",
    "name": "_1_0_email__get_url",
    "resultHeight": 0
   },
   "outputs": [],
   "source": [
    "url_query = f\"\"\"\n",
    "    SELECT GET_PRESIGNED_URL('{stage}', '{db_product.lower()}_reports/{report_name}.pdf', 3600) AS presigned_url\n",
    "\"\"\"\n",
    "\n",
    "# Execute the query through Snowpark\n",
    "df = session.sql(url_query)\n",
    "\n",
    "# # Collect and print the result\n",
    "result = df.collect()\n",
    "presigned_url = result[0]['PRESIGNED_URL']"
   ]
  },
  {
   "cell_type": "code",
   "execution_count": null,
   "id": "c92374ce-4c26-433a-889e-c659e9ec429d",
   "metadata": {
    "codeCollapsed": false,
    "collapsed": false,
    "language": "python",
    "name": "_1_1_email__html",
    "resultHeight": 0
   },
   "outputs": [],
   "source": [
    "html = f\"\"\"\n",
    "<!DOCTYPE html>\n",
    "<html>\n",
    "<head>\n",
    "    <title>Daily Sales Report</title>\n",
    "    <style>\n",
    "        body {{\n",
    "            font-family: Arial, sans-serif;\n",
    "            line-height: 1.6;\n",
    "            color: #333;\n",
    "            margin: 0;\n",
    "            padding: 0;\n",
    "            background-color: #f5f5f5;\n",
    "        }}\n",
    "        .email-container {{\n",
    "            padding: 20px;\n",
    "            max-width: 600px;\n",
    "            margin: auto;\n",
    "            border: 1px solid #ddd;\n",
    "            border-radius: 8px;\n",
    "            background-color: #ffffff;\n",
    "        }}\n",
    "        .button {{\n",
    "            display: inline-block;\n",
    "            padding: 10px 20px;\n",
    "            margin-top: 20px;\n",
    "            font-size: 16px;\n",
    "            color: #ffffff !important; /* Ensure text color is white */\n",
    "            background-color: #00949d !important; /* Button background color */\n",
    "            text-decoration: none;\n",
    "            border-radius: 5px;\n",
    "        }}\n",
    "        .button:hover {{\n",
    "            background-color: #007a80 !important; /* Darker background on hover */\n",
    "        }}\n",
    "        .button:link,\n",
    "        .button:visited {{\n",
    "            color: #ffffff !important; /* Enforce white text for all link states */\n",
    "            background-color: #00949d !important; /* Keep original background color */\n",
    "            text-decoration: none; /* Remove underline */\n",
    "        }}\n",
    "        .button:active {{\n",
    "            background-color: #006466 !important; /* Darker background on active state */\n",
    "        }}\n",
    "        .header {{\n",
    "            font-size: 18px;\n",
    "            font-weight: bold;\n",
    "            color: #00949d;\n",
    "        }}\n",
    "    </style>\n",
    "</head>\n",
    "<body>\n",
    "    <div class=\"email-container\">\n",
    "        <p class=\"header\">Hello {manager_name},</p>\n",
    "        <p>Here is your daily {product} sales report. Please click the link below to download the report.</p>\n",
    "        <a href=\"{presigned_url}\" class=\"button\">Download Report</a>\n",
    "        <p>Reach out to your data team if you have any questions.</p>\n",
    "    </div>\n",
    "<div class=\"footer\">\n",
    "    <body style=\"margin: 0; padding: 0; font-family: Arial, sans-serif; margin-top: 80px\">\n",
    "        <table width=\"6%\" cellspacing=\"0\" cellpadding=\"0\" style=\"background-color: #008b8b; padding: 15px 0; border-radius: 12px; overflow: hidden;\">\n",
    "            <tr>\n",
    "                <td align=\"center\">\n",
    "                    <table cellspacing=\"0\" cellpadding=\"0\" style=\"text-align: center; color: white;\">\n",
    "                        <tr>\n",
    "                            <td style=\"font-size: 18px; font-weight: bold; padding-bottom: 8px;\">\n",
    "                                WidgetCo\n",
    "                            </td>\n",
    "                        </tr>\n",
    "                        <tr>\n",
    "                            <td align=\"center\">\n",
    "                                <!-- Square Logo Shape -->\n",
    "                                <table cellspacing=\"2\" cellpadding=\"0\" style=\"border-spacing: 3px; align: center\">\n",
    "                                    <tr>\n",
    "                                        <td style=\"background-color: white; width: 8px; height: 8px; border-radius: 2px;\"></td>\n",
    "                                        <td style=\"background-color: white; width: 8px; height: 8px; border-radius: 2px;\"></td>\n",
    "                                        <td style=\"background-color: white; width: 8px; height: 8px; border-radius: 2px;\"></td>\n",
    "                                    </tr>\n",
    "                                    <tr>\n",
    "                                        <td style=\"background-color: white; width: 8px; height: 8px; border-radius: 2px;\"></td>\n",
    "                                        <td style=\"background-color: white; width: 8px; height: 8px; border-radius: 2px;\"></td>\n",
    "                                        <td style=\"background-color: white; width: 8px; height: 8px; border-radius: 2px;\"></td>\n",
    "                                    </tr>\n",
    "                                    <tr>\n",
    "                                        <td style=\"background-color: white; width: 8px; height: 8px; border-radius: 2px;\"></td>\n",
    "                                        <td style=\"background-color: white; width: 8px; height: 8px; border-radius: 2px;\"></td>\n",
    "                                        <td style=\"background-color: white; width: 8px; height: 8px; border-radius: 2px;\"></td>\n",
    "                                    </tr>\n",
    "                                </table>\n",
    "                            </td>\n",
    "                        </tr>\n",
    "                    </table>\n",
    "                </td>\n",
    "            </tr>\n",
    "        </table>\n",
    "        <p>From your friendly WidgetCo data team.</p>\n",
    "    </body>\n",
    "</div>\n",
    "\n",
    "</body>\n",
    "</html>\n",
    "\"\"\""
   ]
  },
  {
   "cell_type": "code",
   "execution_count": null,
   "id": "37d61597-5765-4edb-ad94-fbb5a368bf97",
   "metadata": {
    "codeCollapsed": false,
    "collapsed": false,
    "language": "python",
    "name": "_1_2_email__subject_line",
    "resultHeight": 0
   },
   "outputs": [],
   "source": [
    "subject_line = f'{current_date} {product} sales report'"
   ]
  },
  {
   "cell_type": "code",
   "execution_count": null,
   "id": "c88d30e9-8969-44b9-883e-5cf6bd46f1c4",
   "metadata": {
    "codeCollapsed": false,
    "collapsed": false,
    "language": "python",
    "name": "_1_3_email__preview",
    "resultHeight": 214
   },
   "outputs": [],
   "source": [
    "if prod == False:\n",
    "    st.markdown(subject_line)\n",
    "    components.html(html)"
   ]
  },
  {
   "cell_type": "code",
   "execution_count": null,
   "id": "3775908f-ca36-4846-8f38-5adca39217f2",
   "metadata": {
    "codeCollapsed": false,
    "collapsed": false,
    "language": "python",
    "name": "_1_4_email__sql",
    "resultHeight": 0
   },
   "outputs": [],
   "source": [
    "send_email_sql = f\"\"\"\n",
    "CALL SYSTEM$SEND_EMAIL(\n",
    "    'report_email_integration',\n",
    "    'me@email.com',\n",
    "    '{subject_line}',\n",
    "    '{html}',\n",
    "    'text/html'\n",
    "    )\n",
    "\"\"\""
   ]
  },
  {
   "cell_type": "code",
   "execution_count": null,
   "id": "e8f6aa9d-0df1-41b1-9891-a288ccf66013",
   "metadata": {
    "codeCollapsed": false,
    "collapsed": false,
    "language": "python",
    "name": "_1_5_email__send",
    "resultHeight": 0
   },
   "outputs": [],
   "source": [
    "if prod == True:\n",
    "    session.sql(send_email_sql).collect()"
   ]
  }
 ],
 "metadata": {
  "kernelspec": {
   "display_name": "Streamlit Notebook",
   "name": "streamlit"
  }
 },
 "nbformat": 4,
 "nbformat_minor": 5
}
