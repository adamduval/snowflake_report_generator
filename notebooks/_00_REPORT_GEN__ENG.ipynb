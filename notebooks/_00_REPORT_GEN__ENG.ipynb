{
 "metadata": {
  "kernelspec": {
   "display_name": "Streamlit Notebook",
   "name": "streamlit"
  }
 },
 "nbformat_minor": 5,
 "nbformat": 4,
 "cells": [
  {
   "cell_type": "code",
   "id": "3775908f-ca36-4846-8f38-5adca39217f2",
   "metadata": {
    "language": "python",
    "name": "_0_0_setup__imports",
    "collapsed": false,
    "resultHeight": 0
   },
   "source": "from datetime import datetime, timedelta\nimport random\n\nimport pandas as pd\nfrom snowflake.snowpark import Session\nfrom snowflake.snowpark.context import get_active_session\nfrom snowflake.snowpark.types import StructType, StructField, DateType, IntegerType, FloatType\nfrom snowflake.core import Root, CreateMode\nfrom snowflake.core.table import Table, TableColumn",
   "execution_count": null,
   "outputs": []
  },
  {
   "cell_type": "code",
   "id": "e128f311-7ab4-4749-a719-a7e1e8dfacd9",
   "metadata": {
    "language": "python",
    "name": "_0_1_stetup__context",
    "collapsed": false,
    "resultHeight": 0
   },
   "outputs": [],
   "source": "# Initialize Snowflake session and configure database and schema\nsession = get_active_session()\nroot = Root(session)\n\n# Set the active database and schema\nsession.use_database(\"my_db\")\nsession.use_schema(\"my_schema\")",
   "execution_count": null
  },
  {
   "cell_type": "code",
   "id": "448b0fce-6cbc-4add-9d86-1feab58141ab",
   "metadata": {
    "language": "python",
    "name": "_1_0_table__define",
    "collapsed": false,
    "resultHeight": 0
   },
   "outputs": [],
   "source": "sales_table = Table(\n    name=\"fct_widget_sales\",\n    comment=\"Fact sales table for widgets A, B, and C\",\n    columns=[\n        TableColumn(\n            name=\"sale_date\",\n            datatype=\"date\",\n            nullable=False\n        ),\n        TableColumn(\n            name=\"widget_a_total_sales_dollars\",\n            datatype=\"number(2, 2)\",\n            nullable=False\n        ),\n        TableColumn(\n            name=\"widget_a_total_sales_units\",\n            datatype=\"int\",\n            nullable=False\n        ),\n        TableColumn(\n            name=\"widget_b_total_sales_dollars\",\n            datatype=\"number(2, 2)\",\n            nullable=False\n        ),\n        TableColumn(\n            name=\"widget_b_total_sales_units\",\n            datatype=\"int\",\n            nullable=False\n        ),\n        TableColumn(\n            name=\"widget_c_total_sales_dollars\",\n            datatype=\"number(2, 2)\",\n            nullable=False\n        ),\n        TableColumn(\n            name=\"widget_c_total_sales_units\",\n            datatype=\"int\",\n            nullable=False\n        ),\n    ]\n)",
   "execution_count": null
  },
  {
   "cell_type": "code",
   "id": "a4d1145f-8e87-4f29-94ff-15e820a2294f",
   "metadata": {
    "language": "python",
    "name": "_1_1_table__create",
    "codeCollapsed": false,
    "collapsed": false,
    "resultHeight": 757
   },
   "outputs": [],
   "source": "# Access the tables collection from the specified database and schema\ntables = root.databases[\"my_db\"].schemas[\"my_schema\"].tables\n\n# Create or replace the sales_table\ntables.create(sales_table, mode=CreateMode.or_replace)",
   "execution_count": null
  },
  {
   "cell_type": "code",
   "id": "2351ac8e-7574-42d9-9089-0a8737b260c9",
   "metadata": {
    "language": "sql",
    "name": "_1_2_table__truncate",
    "resultHeight": 111,
    "collapsed": false
   },
   "outputs": [],
   "source": "truncate table fct_widget_sales",
   "execution_count": null
  },
  {
   "cell_type": "code",
   "id": "0e9898ef-fb96-4d17-a1c0-f10d2952ff43",
   "metadata": {
    "language": "python",
    "name": "_1_3_table__fill",
    "collapsed": false,
    "resultHeight": 0
   },
   "outputs": [],
   "source": "def populate_fct_widget_sales(session: Session):\n    \"\"\"\n    Populates the fct_widget_sales table with 30 days of random sales data.\n\n    Parameters:\n        session (Session): An active Snowflake session.\n    \"\"\"\n    # Generate data for 30 days\n    today = datetime.today()\n    data = [\n        (\n            (today - timedelta(days=i)).date(),\n            round(random.uniform(0, 1000), 2),  # Widget A dollars\n            random.randint(0, 100),            # Widget A units\n            round(random.uniform(0, 1000), 2), # Widget B dollars\n            random.randint(0, 100),            # Widget B units\n            round(random.uniform(0, 1000), 2), # Widget C dollars\n            random.randint(0, 100)             # Widget C units\n        )\n        for i in range(30)\n    ]\n\n    # Define schema\n    schema = StructType([\n        StructField(\"sale_date\", DateType()),\n        StructField(\"widget_a_total_sales_dollars\", FloatType()),\n        StructField(\"widget_a_total_sales_units\", IntegerType()),\n        StructField(\"widget_b_total_sales_dollars\", FloatType()),\n        StructField(\"widget_b_total_sales_units\", IntegerType()),\n        StructField(\"widget_c_total_sales_dollars\", FloatType()),\n        StructField(\"widget_c_total_sales_units\", IntegerType()),\n    ])\n\n    # Create a Snowpark DataFrame\n    df = session.create_dataframe(data, schema)\n\n    # Write to the fct_widget_sales table\n    table_name = \"fct_widget_sales\"\n    df.write.mode(\"overwrite\").save_as_table(table_name)\n\n# Populate the fct_widget_sales table\npopulate_fct_widget_sales(session)",
   "execution_count": null
  },
  {
   "cell_type": "code",
   "id": "0db8856b-a040-4bcb-ba58-57bc4ceaed9e",
   "metadata": {
    "language": "sql",
    "name": "_1_0_stage__create",
    "collapsed": false,
    "resultHeight": 111
   },
   "outputs": [],
   "source": "-- Drop the stage if it already exists\nDROP STAGE IF EXISTS my_stage;\n\n-- Create a new stage with encryption and directory enabled\nCREATE STAGE my_stage\n  ENCRYPTION = (TYPE = 'SNOWFLAKE_SSE')\n  DIRECTORY = (ENABLE = TRUE);",
   "execution_count": null
  }
 ]
}