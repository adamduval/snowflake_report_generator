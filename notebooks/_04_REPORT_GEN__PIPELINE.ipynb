{
 "cells": [
  {
   "cell_type": "code",
   "execution_count": null,
   "id": "3775908f-ca36-4846-8f38-5adca39217f2",
   "metadata": {
    "collapsed": false,
    "language": "python",
    "name": "_0_0_setup__imports",
    "resultHeight": 0
   },
   "outputs": [],
   "source": [
    "from datetime import datetime\n",
    "\n",
    "from snowflake.snowpark.context import get_active_session\n",
    "from snowflake.snowpark.functions import col, lit\n",
    "from snowflake.core import Root"
   ]
  },
  {
   "cell_type": "code",
   "execution_count": null,
   "id": "9fc66cdd-8db1-4d4f-b3f8-c4c6f0711597",
   "metadata": {
    "collapsed": false,
    "language": "python",
    "name": "_0_1_setup__context",
    "resultHeight": 0
   },
   "outputs": [],
   "source": [
    "# Initialize the Snowflake session\n",
    "session = get_active_session()\n",
    "\n",
    "# Create a Root instance\n",
    "root = Root(session)\n",
    "\n",
    "# Set the active database and schema\n",
    "session.use_database('my_db')\n",
    "session.use_schema('my_schema')"
   ]
  },
  {
   "cell_type": "code",
   "execution_count": null,
   "id": "8d50cbf4-0c8d-4950-86cb-114990437ac9",
   "metadata": {
    "collapsed": false,
    "language": "sql",
    "name": "_1_0_execute__a",
    "resultHeight": 111
   },
   "outputs": [],
   "source": [
    "execute notebook _01_REPORT_GEN__REPORT('a');\n",
    "execute notebook _03_REPORT_GEN__SEND_EMAIL('a');"
   ]
  },
  {
   "cell_type": "code",
   "execution_count": null,
   "id": "c695373e-ac74-4b62-a1f1-08206cbd5c81",
   "metadata": {
    "language": "sql",
    "name": "_1_1_execute__b",
    "resultHeight": 111
   },
   "outputs": [],
   "source": [
    "execute notebook _01_REPORT_GEN__REPORT('b');\n",
    "execute notebook _03_REPORT_GEN__SEND_EMAIL('b');"
   ]
  },
  {
   "cell_type": "code",
   "execution_count": null,
   "id": "836e38ae-1bc5-4f60-b69e-0cebcb0b0194",
   "metadata": {
    "collapsed": false,
    "language": "sql",
    "name": "_1_2_execute__c",
    "resultHeight": 111
   },
   "outputs": [],
   "source": [
    "execute notebook _01_REPORT_GEN__REPORT('c');\n",
    "execute notebook _03_REPORT_GEN__SEND_EMAIL('c');"
   ]
  },
  {
   "cell_type": "code",
   "execution_count": null,
   "id": "61d146de-c760-4763-9cbe-387ff604a527",
   "metadata": {
    "collapsed": false,
    "language": "python",
    "name": "_2_0_alert__data",
    "resultHeight": 0
   },
   "outputs": [],
   "source": [
    "# Convert the results of execution to DataFrames\n",
    "a_df = _1_0_execute__a.to_df()\n",
    "b_df = _1_1_execute__b.to_df()\n",
    "c_df = _1_2_execute__c.to_df()\n",
    "\n",
    "# Extract the 'status' column's first value from each DataFrame\n",
    "a_result = a_df.select(col('\"status\"')).first()[0]\n",
    "b_result = b_df.select(col('\"status\"')).first()[0]\n",
    "c_result = c_df.select(col('\"status\"')).first()[0]"
   ]
  },
  {
   "cell_type": "code",
   "execution_count": null,
   "id": "9ec596eb-a3cb-4911-a03f-a2e09625f28d",
   "metadata": {
    "codeCollapsed": false,
    "collapsed": false,
    "language": "python",
    "name": "_2_1_alert__trigger",
    "resultHeight": 0
   },
   "outputs": [],
   "source": [
    "# Get the current date\n",
    "today = datetime.now()\n",
    "current_date = today.strftime('%Y-%m-%d')\n",
    "\n",
    "# Initialize warning variables\n",
    "a_warning = 'Report A executed successfully'\n",
    "b_warning = 'Report B executed successfully'\n",
    "c_warning = 'Report C executed successfully'\n",
    "\n",
    "# Check if each report executed successfully and update warnings if not\n",
    "if a_result != 'Statement executed successfully.':\n",
    " a_warning = f'Report A did not execute properly on {current_date}'\n",
    "\n",
    "if b_result != 'Statement executed successfully.':\n",
    "    b_warning = f'Report B did not execute properly on {current_date}'\n",
    "\n",
    "if c_result != 'Statement executed successfully.':\n",
    "    c_warning = f'Report C did not execute properly on {current_date}'\n"
   ]
  },
  {
   "cell_type": "code",
   "execution_count": null,
   "id": "a093af41-958d-4ee8-a03a-6cb5964fc485",
   "metadata": {
    "codeCollapsed": false,
    "collapsed": false,
    "language": "python",
    "name": "_2_2_alert_email_sql",
    "resultHeight": 0
   },
   "outputs": [],
   "source": [
    "warnings_html = f\"\"\"\n",
    "<!DOCTYPE html>\n",
    "<html lang=\"en\">\n",
    "<head>\n",
    "    <meta charset=\"UTF-8\">\n",
    "    <meta name=\"viewport\" content=\"width=device-width, initial-scale=1.0\">\n",
    "    <title>Warnings</title>\n",
    "    <style>\n",
    "        body {{\n",
    "            font-family: Arial, sans-serif;\n",
    "            line-height: 1.5;\n",
    "            margin: 20px;\n",
    "        }}\n",
    "    </style>\n",
    "</head>\n",
    "<body>\n",
    "    <p>{a_warning}</p>\n",
    "    <p>{b_warning}</p>\n",
    "    <p>{c_warning}</p>\n",
    "</body>\n",
    "</html>\n",
    "\"\"\"\n",
    "\n",
    "\n",
    "send_email_sql = f\"\"\"\n",
    "CALL SYSTEM$SEND_EMAIL(\n",
    "    'report_email_integration',\n",
    "    'me@email.com',\n",
    "    'Reporting Failure',\n",
    "    '{warnings_html}',\n",
    "    'text/html'\n",
    ")\n",
    "\"\"\""
   ]
  },
  {
   "cell_type": "code",
   "execution_count": null,
   "id": "b2c9043d-eb62-4a52-b0fa-ff2491b801f5",
   "metadata": {
    "codeCollapsed": false,
    "collapsed": false,
    "language": "python",
    "name": "_2_3_alert__email_send",
    "resultHeight": 0
   },
   "outputs": [],
   "source": [
    "if any(result != \"Statement executed successfully.\" for result in (a_result, b_result, c_result)):\n",
    "    session.sql(send_email_sql).collect()"
   ]
  }
 ],
 "metadata": {
  "kernelspec": {
   "display_name": "Streamlit Notebook",
   "name": "streamlit"
  }
 },
 "nbformat": 4,
 "nbformat_minor": 5
}
