{
 "cells": [
  {
   "cell_type": "code",
   "execution_count": null,
   "id": "3775908f-ca36-4846-8f38-5adca39217f2",
   "metadata": {
    "collapsed": false,
    "language": "python",
    "name": "_0_0_setup__imports",
    "resultHeight": 0
   },
   "outputs": [],
   "source": [
    "from snowflake.core import Root\n",
    "from snowflake.core.notification_integration import NotificationIntegration, NotificationEmail\n",
    "from snowflake.snowpark.context import get_active_session"
   ]
  },
  {
   "cell_type": "code",
   "execution_count": null,
   "id": "84309635-fde7-4944-ae28-291fc25cf4ea",
   "metadata": {
    "collapsed": false,
    "language": "python",
    "name": "_0_1_setup__context",
    "resultHeight": 0
   },
   "outputs": [],
   "source": [
    "# Initialize Snowflake session and set database and schema\n",
    "session = get_active_session()\n",
    "session.use_database(\"MY_DB\")\n",
    "session.use_schema(\"MY_SCHEMA\")\n",
    "\n",
    "# Create a Root object using the active session\n",
    "root = Root(session)\n",
    "\n",
    "# Reference to the stage\n",
    "stage = \"@MY_STAGE\""
   ]
  },
  {
   "cell_type": "code",
   "execution_count": null,
   "id": "27250d78-8954-427f-94b7-2dd9897420c8",
   "metadata": {
    "collapsed": false,
    "language": "python",
    "name": "_0_2_setup__get_integrations",
    "resultHeight": 0
   },
   "outputs": [],
   "source": [
    "# Access the notification integrations from the Root object\n",
    "notification_integrations = root.notification_integrations"
   ]
  },
  {
   "cell_type": "code",
   "execution_count": null,
   "id": "85141990-2043-4934-bc89-e10ba55b001d",
   "metadata": {
    "collapsed": false,
    "language": "python",
    "name": "_1_0_integration__define",
    "resultHeight": 0
   },
   "outputs": [],
   "source": [
    "# Create a new NotificationIntegration with email notification hook\n",
    "new_ni = NotificationIntegration(\n",
    "    name=\"report_email_integration\",\n",
    "    enabled=True,\n",
    "    notification_hook=NotificationEmail(\n",
    "        default_recipients=[\n",
    "            'me@email.com'\n",
    "        ],\n",
    "        allowed_recipients=[\n",
    "            'me@email.com'\n",
    "        ]\n",
    "    )\n",
    ")"
   ]
  },
  {
   "cell_type": "code",
   "execution_count": null,
   "id": "b06d63e5-2857-4abf-b7bd-a15b19697a71",
   "metadata": {
    "collapsed": false,
    "language": "python",
    "name": "_1_1_integration__create",
    "resultHeight": 111
   },
   "outputs": [],
   "source": [
    "# Create the new notification integration\n",
    "notification_integrations.create(new_ni)"
   ]
  }
 ],
 "metadata": {
  "kernelspec": {
   "display_name": "Streamlit Notebook",
   "name": "streamlit"
  }
 },
 "nbformat": 4,
 "nbformat_minor": 5
}
